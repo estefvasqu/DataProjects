{
 "cells": [
  {
   "cell_type": "code",
   "execution_count": 22,
   "metadata": {},
   "outputs": [],
   "source": [
    "import pandas as pd\n",
    "import openpyxl\n",
    "import numpy as np"
   ]
  },
  {
   "cell_type": "code",
   "execution_count": null,
   "metadata": {},
   "outputs": [],
   "source": [
    "pos = pd.read_excel(\"C:/Users/evasquez/OneDrive - Bolsa de Cereales de Buenos Aires/Documentos - Instituto Estudios Económicos/Pedidos/2024/Diferencias_FOB/Data/base_precios_bolsa.xlsx\")\n",
    "pos[\"Fecha\"] = pd.to_datetime(pos[\"Fecha\"], format=\"%m/%d/%Y\")\n",
    "pos[\"Fecha\"] = pos[\"Fecha\"].dt.strftime(\"%Y-%m-%d\")\n",
    "\n",
    "#ver la estructura de datos de la tabla\n",
    "print(pos.dtypes)"
   ]
  },
  {
   "cell_type": "code",
   "execution_count": null,
   "metadata": {},
   "outputs": [],
   "source": [
    "# Convertir la columna \"Año\" de float64 a int64\n",
    "pos[\"Año\"] = pos[\"Año\"].astype(\"Int64\")\n",
    "pos[\"Mes\"] = pos[\"Mes\"].astype(\"Int64\")\n",
    "print(pos.dtypes)"
   ]
  },
  {
   "cell_type": "code",
   "execution_count": 5,
   "metadata": {},
   "outputs": [],
   "source": [
    "pos = pos.dropna(subset=[\"Año\", \"Mes\"])\n",
    "pos[\"posicion\"] = pd.to_datetime(pos[\"Año\"].astype(str) + '-' + pos[\"Mes\"].astype(str) + '-01')\n"
   ]
  },
  {
   "cell_type": "code",
   "execution_count": 6,
   "metadata": {},
   "outputs": [],
   "source": [
    "#Crear una columna con las diferencia de meses \n",
    "pos['Fecha'] = pd.to_datetime(pos['Fecha'])\n",
    "pos['posicion'] = pd.to_datetime(pos['posicion'])\n",
    "\n",
    "pos['time_delta_months'] = pos['posicion'].dt.to_period('M').view(dtype='int64') - pos['Fecha'].dt.to_period('M').view(dtype='int64')\n",
    "\n",
    "pos['Embarque'] =  't+' + pos['time_delta_months'].astype(str)"
   ]
  },
  {
   "cell_type": "code",
   "execution_count": 7,
   "metadata": {},
   "outputs": [],
   "source": [
    "# Filtrar Fecha desde 2022 en adelante\n",
    "pos = pos[pos['Fecha'] >= '2020-01-01']\n",
    "pos[\"Producto\"].replace(\"Trigo 11.5%\", \"Trigo\", inplace=True)"
   ]
  },
  {
   "cell_type": "code",
   "execution_count": 8,
   "metadata": {},
   "outputs": [],
   "source": [
    "colors = pd.read_excel(\"C:/Users/evasquez/OneDrive - Bolsa de Cereales de Buenos Aires/Documentos - Instituto Estudios Económicos/Pedidos/2024/Diferencias_FOB/Reunion_Ministerio_1508/análisis/Base_FullSites.xlsx\")"
   ]
  },
  {
   "cell_type": "code",
   "execution_count": null,
   "metadata": {},
   "outputs": [],
   "source": [
    "colors[\"Fecha\"] = pd.to_datetime(colors[\"Fecha\"], format=\"%m/%d/%Y\")\n",
    "colors[\"Fecha\"] = colors[\"Fecha\"].dt.strftime(\"%Y-%m-%d\")\n",
    "\n",
    "#filtro fecha\n",
    "colors = colors[colors['Fecha'] >= '2020-01-01']\n",
    "#ver la estructura de datos de la tabla\n",
    "print(colors.dtypes)"
   ]
  },
  {
   "cell_type": "code",
   "execution_count": 10,
   "metadata": {},
   "outputs": [],
   "source": [
    "pos['Fecha'] = pd.to_datetime(pos['Fecha'])\n",
    "colors['Fecha'] = pd.to_datetime(colors['Fecha'])\n",
    "df = pd.merge(pos, colors, on=[\"Fecha\", \"Producto\", \"Mes\", \"Año\"], how=\"left\")"
   ]
  },
  {
   "cell_type": "code",
   "execution_count": 11,
   "metadata": {},
   "outputs": [],
   "source": [
    "#exportar a excel\n",
    "df.to_excel(\"C:/Users/evasquez/OneDrive - Bolsa de Cereales de Buenos Aires/Documentos - Instituto Estudios Económicos/Pedidos/2024/Diferencias_FOB/Reunion_Ministerio_1508/análisis/base_analisis.xlsx\", index=False)\n",
    "del pos"
   ]
  },
  {
   "cell_type": "code",
   "execution_count": null,
   "metadata": {},
   "outputs": [],
   "source": [
    "#LIMPIO\n",
    "df['Mes_Fecha'] = df['Fecha'].dt.month\n",
    "\n",
    "resumen = df.groupby(['Fecha', 'Producto', 'Embarque'])['Empresa'].count().reset_index()\n",
    "resumen.columns = ['Fecha', 'Producto', 'Embarque', 'Cantidad_Empresa']\n",
    "\n",
    "df_junto = pd.merge(df, resumen, on=['Fecha', 'Producto', 'Embarque'], how='left')\n",
    "\n",
    "# Me indica la cantidad de empresas que reportaron precios por mes, producto y embarque\n",
    "reporte_qempresa = df_junto.groupby(['Mes_Fecha', 'Producto', 'Embarque'])['Cantidad_Empresa'].mean().reset_index().round(2)\n",
    "print(reporte_qempresa)"
   ]
  },
  {
   "cell_type": "code",
   "execution_count": null,
   "metadata": {},
   "outputs": [],
   "source": [
    "# Frecuencia de empresa que informa por producto\n",
    "df_frecuencia = df[df[\"Producto\"] == \"Soja\"]\n",
    "frecuencia_empresa = df_frecuencia['Empresa'].value_counts()\n",
    "print(frecuencia_empresa)"
   ]
  },
  {
   "cell_type": "code",
   "execution_count": null,
   "metadata": {},
   "outputs": [],
   "source": [
    "# Producto que más se recibe información\n",
    "frecuencia_producto = df['Producto'].value_counts()\n",
    "print(frecuencia_producto)\n",
    "df_filtered = df[(df['Fecha'].dt.year >= 2023)]\n",
    "cantidad_registros = df_filtered['Producto'].value_counts()\n",
    "print(cantidad_registros)"
   ]
  },
  {
   "cell_type": "code",
   "execution_count": null,
   "metadata": {},
   "outputs": [],
   "source": [
    "colors['Mes_Fecha'] = colors['Fecha'].dt.month\n",
    "print(colors.dtypes)"
   ]
  },
  {
   "cell_type": "code",
   "execution_count": 16,
   "metadata": {},
   "outputs": [],
   "source": [
    "colors.dropna(subset=['Valor'], inplace=True)\n",
    "\n",
    "colors[\"posicion\"] = pd.to_datetime(colors[\"Año\"].astype(str) + '-' + colors[\"Mes\"].astype(str) + '-01')\n",
    "colors['posicion'] = pd.to_datetime(colors['posicion'])\n",
    "\n",
    "colors['time_delta_months'] = colors['posicion'].dt.to_period('M').view(dtype='int64') - colors['Fecha'].dt.to_period('M').view(dtype='int64')\n",
    "\n",
    "colors['Embarque'] ='t+' + colors['time_delta_months'].astype(str)\n"
   ]
  },
  {
   "cell_type": "code",
   "execution_count": null,
   "metadata": {},
   "outputs": [],
   "source": [
    "# frecuencia de embarques por producto\n",
    "color_freq = colors[colors['Producto'] == 'Trigo'].groupby('Embarque')['Valor'].value_counts()\n",
    "color_freq = color_freq.loc[:, 'Naranja']  ## RECUERDA CAMBIAR EL COLOR\n",
    "print(color_freq)"
   ]
  },
  {
   "cell_type": "code",
   "execution_count": null,
   "metadata": {},
   "outputs": [],
   "source": [
    "# frecuencia de Colores por producto\n",
    "frecuencia_valor_trigo = colors[colors['Producto'] == 'Soja']['Valor'].value_counts()\n",
    "print(frecuencia_valor_trigo)"
   ]
  },
  {
   "cell_type": "code",
   "execution_count": null,
   "metadata": {},
   "outputs": [],
   "source": [
    "#color por mes de embarque\n",
    "frecuencia_valor_verde = colors[(colors['Producto'] == 'Aceite de Girasol') & (colors['Valor'] == 'Rojo')]['Mes'].value_counts()\n",
    "frecuencia_valor_verde = frecuencia_valor_verde.sort_index()\n",
    "print(frecuencia_valor_verde)"
   ]
  },
  {
   "cell_type": "code",
   "execution_count": null,
   "metadata": {},
   "outputs": [],
   "source": [
    "#color por t\n",
    "soja_colors = colors[colors['Producto'] == 'Aceite de Girasol']\n",
    "frecuencia_embarque_valor = soja_colors.groupby(['Embarque', 'Valor']).size().reset_index(name='Frecuencia')\n",
    "frecuencia_embarque_valor\n",
    "frecuencia_embarque_valor.pivot(index='Embarque', columns='Valor', values='Frecuencia')"
   ]
  },
  {
   "cell_type": "code",
   "execution_count": null,
   "metadata": {},
   "outputs": [],
   "source": [
    "# Registros por producto y año de la fecha\n",
    "df_count = df.groupby(['Producto', 'Año_Fecha']).size().reset_index(name='Cantidad_Registros')\n",
    "print(df_count)\n"
   ]
  },
  {
   "cell_type": "code",
   "execution_count": null,
   "metadata": {},
   "outputs": [],
   "source": [
    "#\n",
    "df_broker_trigo = df[(df['Categoria'] == 'empresa') & (df['Producto'] == 'Soja')]\n",
    "registro_agrupado = df_broker_trigo.groupby(['Año_Fecha', 'Empresa']).size().reset_index(name='Cantidad_Registros')\n",
    "print(registro_agrupado)"
   ]
  },
  {
   "cell_type": "markdown",
   "metadata": {},
   "source": [
    "PROMEDIOS"
   ]
  },
  {
   "cell_type": "code",
   "execution_count": 23,
   "metadata": {},
   "outputs": [],
   "source": [
    "df_promedio = df\n",
    "df_promedio['Año_Fecha'] = df_promedio['Fecha'].dt.year\n",
    "colors_promedio = colors\n",
    "colors_promedio['Año_Fecha'] = colors_promedio['Fecha'].dt.year\n"
   ]
  },
  {
   "cell_type": "code",
   "execution_count": null,
   "metadata": {
    "vscode": {
     "languageId": "ruby"
    }
   },
   "outputs": [],
   "source": [
    "empresa_freq = df_promedio[df_promedio['Producto'] == 'Soja'].groupby(['Año_Fecha', 'Empresa']).size().reset_index(name='Frecuencia')\n",
    "empresa_freq_pivot = empresa_freq.pivot(index='Año_Fecha', columns='Empresa', values='Frecuencia')\n",
    "print(empresa_freq_pivot)"
   ]
  },
  {
   "cell_type": "code",
   "execution_count": 41,
   "metadata": {
    "vscode": {
     "languageId": "ruby"
    }
   },
   "outputs": [],
   "source": [
    "#\n",
    "productos_interes = ['Soja', 'Trigo', 'Aceite de Girasol']\n",
    "df_filtrado = colors[colors['Producto'].isin(productos_interes)]\n",
    "\n",
    "# Agrupar por 'Mes_Fecha' y contar las frecuencias de los valores para cada producto\n",
    "df_productos_freq = df_filtrado.groupby(['Producto', 'Mes_Fecha'])['Valor'].value_counts()\n",
    "\n",
    "# Convertir la serie en un DataFrame\n",
    "df_productos_freq = df_productos_freq.to_frame(name='Frecuencia').reset_index()\n"
   ]
  },
  {
   "cell_type": "code",
   "execution_count": null,
   "metadata": {},
   "outputs": [],
   "source": [
    "df_broker_trigo = df[df['Categoria'] == 'broker']\n",
    "broker_count_by_month = df_broker_trigo[df_broker_trigo['Producto'] == 'Trigo'].groupby('Mes')['Empresa'].count()\n",
    "print(broker_count_by_month)"
   ]
  }
 ],
 "metadata": {
  "kernelspec": {
   "display_name": "Python 3",
   "language": "python",
   "name": "python3"
  },
  "language_info": {
   "codemirror_mode": {
    "name": "ipython",
    "version": 3
   },
   "file_extension": ".py",
   "mimetype": "text/x-python",
   "name": "python",
   "nbconvert_exporter": "python",
   "pygments_lexer": "ipython3",
   "version": "3.12.0"
  }
 },
 "nbformat": 4,
 "nbformat_minor": 2
}
